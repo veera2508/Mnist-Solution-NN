{
 "cells": [
  {
   "cell_type": "markdown",
   "metadata": {
    "colab_type": "text",
    "id": "kwHeuLM7Ly1p"
   },
   "source": [
    "# 1. Importing the Libraries and Dataset\n",
    "\n"
   ]
  },
  {
   "cell_type": "code",
   "execution_count": 61,
   "metadata": {
    "colab": {},
    "colab_type": "code",
    "id": "CFL5sZMfLsmU"
   },
   "outputs": [],
   "source": [
    "import numpy as np\n",
    "import matplotlib\n",
    "import matplotlib.pyplot as plt\n",
    "import pandas as pd\n",
    "import sklearn\n",
    "import time\n",
    "%matplotlib inline\n",
    "\n",
    "\n",
    "train = pd.read_csv(\"mnist_train.csv\")\n",
    "test = pd.read_csv(\"mnist_test.csv\")\n"
   ]
  },
  {
   "cell_type": "markdown",
   "metadata": {
    "colab_type": "text",
    "id": "sat3mgjTNBeN"
   },
   "source": [
    "# 2. Visualizing the dataset"
   ]
  },
  {
   "cell_type": "code",
   "execution_count": 38,
   "metadata": {
    "colab": {
     "base_uri": "https://localhost:8080/",
     "height": 153
    },
    "colab_type": "code",
    "executionInfo": {
     "elapsed": 2134,
     "status": "ok",
     "timestamp": 1590333981350,
     "user": {
      "displayName": "Veeraraghavan Narasimhan",
      "photoUrl": "https://lh3.googleusercontent.com/a-/AOh14GiWeOc4XrzIQGnj_hTzHSLIEqe1IWE2MUPlab4r3T4=s64",
      "userId": "14804371943581230761"
     },
     "user_tz": -330
    },
    "id": "ZBpcBIaFNGl7",
    "outputId": "8eba256e-14ad-49bd-fa04-b5e8b9971e72"
   },
   "outputs": [
    {
     "name": "stdout",
     "output_type": "stream",
     "text": [
      "[[5 0 0 ... 0 0 0]\n",
      " [0 0 0 ... 0 0 0]\n",
      " [4 0 0 ... 0 0 0]\n",
      " ...\n",
      " [5 0 0 ... 0 0 0]\n",
      " [6 0 0 ... 0 0 0]\n",
      " [8 0 0 ... 0 0 0]]\n",
      "(60000, 785)\n"
     ]
    },
    {
     "data": {
      "image/png": "[encoded data removed]",
      "text/plain": [
       "<Figure size 432x288 with 20 Axes>"
      ]
     },
     "metadata": {
      "needs_background": "light"
     },
     "output_type": "display_data"
    }
   ],
   "source": [
    "train_arr = np.array(train.values)\n",
    "test_arr = np.array(test.values)\n",
    "print(train_arr)\n",
    "print(train_arr.shape)\n",
    "for i in range(20):\n",
    "    image = train_arr[i][1:].reshape(28, 28)\n",
    "    plt.subplot(4, 5, i+1)\n",
    "    plt.imshow(image, cmap='gray')\n",
    "    plt.title('label = {}'.format(train_arr[i][0]))\n",
    "    plt.axis('off')\n",
    "plt.tight_layout()\n",
    "plt.show()"
   ]
  },
  {
   "cell_type": "markdown",
   "metadata": {
    "colab_type": "text",
    "id": "B99zYwZwOLTK"
   },
   "source": [
    "# 3. Model Architecture\n",
    "\n",
    "* This is going to be a 3 layer nn model with 2 hidden layers\n",
    "* The diementions of each of the hidden layer is [150,75]\n",
    "* The input is a 28x28 image file which we are going to feed as a list of 784 (28x28) pixels\n",
    "* The ouput will be checked with the label and the loss function would be standard lr loss function"
   ]
  },
  {
   "cell_type": "markdown",
   "metadata": {
    "colab_type": "text",
    "id": "pUC-U8iKSRVh"
   },
   "source": [
    "# 4. Reshaping the datasets"
   ]
  },
  {
   "cell_type": "code",
   "execution_count": 42,
   "metadata": {
    "colab": {},
    "colab_type": "code",
    "id": "BTx3q3_ZP0p4"
   },
   "outputs": [
    {
     "name": "stdout",
     "output_type": "stream",
     "text": [
      "(784, 60000) (10, 60000)\n",
      "(784, 10000) (1, 10000)\n"
     ]
    },
    {
     "name": "stderr",
     "output_type": "stream",
     "text": [
      "/Applications/anaconda3/lib/python3.7/site-packages/sklearn/preprocessing/_encoders.py:415: FutureWarning: The handling of integer data will change in version 0.22. Currently, the categories are determined based on the range [0, max(values)], while in the future they will be determined based on the unique values.\n",
      "If you want the future behaviour and silence this warning, you can specify \"categories='auto'\".\n",
      "In case you used a LabelEncoder before this OneHotEncoder to convert the categories to integers, then you can now use the OneHotEncoder directly.\n",
      "  warnings.warn(msg, FutureWarning)\n"
     ]
    }
   ],
   "source": [
    "from sklearn.preprocessing import OneHotEncoder\n",
    "enc = OneHotEncoder()\n",
    "\n",
    "X_train = train_arr[:,1:]\n",
    "Y_train = train_arr[:,0].reshape(-1,1)\n",
    "Y_train = enc.fit_transform(Y_train)\n",
    "Y_train = Y_train.toarray()\n",
    "X_train = X_train.T\n",
    "X_train = np.array(X_train)\n",
    "Y_train = Y_train.T\n",
    "print(X_train.shape,Y_train.shape)\n",
    "X_test = test_arr[:,1:]\n",
    "Y_test = test_arr[:,0].reshape(-1,1)\n",
    "X_test = X_test.T\n",
    "Y_test = Y_test.T\n",
    "X_test = np.array(X_test)\n",
    "print(X_test.shape,Y_test.shape)"
   ]
  },
  {
   "cell_type": "markdown",
   "metadata": {
    "colab_type": "text",
    "id": "4Lu7iD9MKDy1"
   },
   "source": [
    "# 5. Model Class"
   ]
  },
  {
   "cell_type": "code",
   "execution_count": 229,
   "metadata": {
    "colab": {},
    "colab_type": "code",
    "id": "czPoHb9eKDy1"
   },
   "outputs": [],
   "source": [
    "class gnn:\n",
    "    def __init__(self, dims, activations, epochs, lr):\n",
    "        self.dims = dims\n",
    "        self.activations = activations\n",
    "        self.epochs = epochs\n",
    "        self.lr = lr\n",
    "        self.params={}\n",
    "        self.grads={}\n",
    "        self.initialize_parameters()\n",
    "        \n",
    "    def sigmoid(self,Z):\n",
    "        A = 1/(1+np.exp(-Z))\n",
    "        return A\n",
    "\n",
    "    def relu(self,Z):\n",
    "        A = np.maximum(0,Z)\n",
    "        return A\n",
    "\n",
    "    def relu_backward(self,dA, cache):\n",
    "        Z = cache\n",
    "        dZ = np.array(dA)\n",
    "        dZ[Z <= 0] = 0\n",
    "        return dZ\n",
    "\n",
    "    def sigmoid_backward(self,dA, cache):\n",
    "        Z = cache \n",
    "        s = 1/(1+np.exp(-Z))\n",
    "        dZ = dA * s * (1-s)\n",
    "        return dZ\n",
    "    \n",
    "    def initialize_parameters(self):\n",
    "        dims = self.dims\n",
    "        params = self.params\n",
    "        L = len(dims)\n",
    "        for l in range(1,L):\n",
    "            params[\"W\"+str(l)] = np.random.randn(dims[l],dims[l-1]) * np.sqrt(1. /dims[l])\n",
    "            params[\"b\"+str(l)] = np.zeros((dims[l],1))\n",
    "        self.params = params\n",
    "    \n",
    "    def forward_prop(self,X):\n",
    "        L = len(self.dims)\n",
    "        params = self.params\n",
    "        activations = self.activations\n",
    "        params['A0'] = X\n",
    "        \n",
    "        for l in range(1,L):\n",
    "            params[\"Z\"+str(l)] = np.dot(params[\"W\"+str(l)], params[\"A\"+str(l-1)]) + params[\"b\"+str(l)]\n",
    "            if activations[l-1] == \"relu\":    \n",
    "                params[\"A\"+str(l)] = self.relu(params[\"Z\"+str(l)])\n",
    "            elif activations[l-1] == \"sigmoid\":    \n",
    "                params[\"A\"+str(l)] = self.sigmoid(params[\"Z\"+str(l)])\n",
    "        self.params = params\n",
    "    \n",
    "    def compute_cost(self,Y):\n",
    "        L = len(self.dims)\n",
    "        params = self.params\n",
    "        AL = params[\"A\" + str(L-1)]\n",
    "        m = Y.shape[1]\n",
    "        mse = np.sum((np.power(AL-Y,2)),axis=0,keepdims=True)\n",
    "        cost = (1/10) * np.sum((1./m) * (-np.dot(Y,np.log(AL).T) - np.dot(1-Y, np.log(1-AL).T)))\n",
    "        return cost\n",
    "    \n",
    "    def back_prop(self,Y):\n",
    "        L = len(self.dims)\n",
    "        m = Y.shape[1]\n",
    "        params = self.params\n",
    "        grads = self.grads\n",
    "        activations = self.activations\n",
    "        AL = params[\"A\" + str(L-1)] \n",
    "        dA = np.divide(AL - Y, (1 - AL) *  AL)\n",
    "        \n",
    "        for l in reversed(range(1,L)):\n",
    "            if(activations[l-1] == \"relu\"):\n",
    "                dZ = self.relu_backward(dA, params[\"Z\"+str(l)])\n",
    "            elif(activations[l-1] == \"sigmoid\"):\n",
    "                dZ = self.sigmoid_backward(dA, params[\"Z\"+str(l)])\n",
    "            grads[\"dW\"+str(l)] = (1/m) * np.dot(dZ, params[\"A\"+str(l-1)].T)\n",
    "            grads[\"db\"+str(l)] = (1/m) * np.sum(dZ, axis=1, keepdims=True)\n",
    "            dA = np.dot(params[\"W\"+str(l)].T, dZ)\n",
    "        self.params = params\n",
    "        self.grads = grads\n",
    "    \n",
    "    def update_params(self):\n",
    "        L = len(self.dims)\n",
    "        lr = self.lr\n",
    "        grads = self.grads\n",
    "        params = self.params\n",
    "        for l in range(1,L):\n",
    "            params[\"W\"+str(l)] -= grads[\"dW\"+str(l)]*lr\n",
    "            params[\"b\"+str(l)] -= grads[\"db\"+str(l)]*lr\n",
    "        params = self.params\n",
    "    \n",
    "    def accuracy(self, X_val, Y_val):\n",
    "        self.forward_prop(X_val)\n",
    "        L = len(self.dims)\n",
    "        Y_predict = self.params[\"A\"+str(L-1)]\n",
    "        Y_pred = np.argmax(Y_predict, axis = 0).reshape(1,-1)\n",
    "        m = Y_val.shape[1]\n",
    "        preds = ((Y_val) == (Y_pred))\n",
    "        unique, counts = np.unique(preds, return_counts=True)\n",
    "        preds = dict(zip(unique, counts))\n",
    "        print(preds)\n",
    "        accu = ((preds[True])/m)*100\n",
    "        return accu\n",
    "    \n",
    "    def train(self, X, Y, X_val, Y_val):\n",
    "        costs = []\n",
    "        accus = []\n",
    "        start_time = time.time()\n",
    "        for i in range(self.epochs):\n",
    "            self.forward_prop(X)\n",
    "            \n",
    "            cost = self.compute_cost(Y)\n",
    "            self.back_prop(Y)\n",
    "            \n",
    "            self.update_params()\n",
    "            \n",
    "            accu = self.accuracy(X_val, Y_val)\n",
    "            costs.append(cost)\n",
    "            accus.append(accu)\n",
    "            print('Epoch: {0}, Time Spent: {1:.2f}s, Accuracy: {2}, Cost: {3}'.format(\n",
    "                i+1, time.time() - start_time, accu, cost))\n",
    "        \n",
    "        plt.plot(np.squeeze(costs))\n",
    "        plt.ylabel('cost')\n",
    "        plt.xlabel('epochs')\n",
    "        plt.title(\"Learning rate =\" + str(self.lr))\n",
    "        plt.show()\n",
    "        \n",
    "        plt.plot(np.squeeze(accus))\n",
    "        plt.ylabel('accuracy')\n",
    "        plt.xlabel('epochs')\n",
    "        plt.title(\"Learning rate =\" + str(self.lr))\n",
    "        plt.show()\n",
    "            "
   ]
  },
  {
   "cell_type": "markdown",
   "metadata": {
    "colab_type": "text",
    "id": "XHEp6cKdKDzT"
   },
   "source": [
    "# 7. Training the model"
   ]
  },
  {
   "cell_type": "code",
   "execution_count": 237,
   "metadata": {
    "colab": {
     "base_uri": "https://localhost:8080/",
     "height": 1000
    },
    "colab_type": "code",
    "executionInfo": {
     "elapsed": 20744,
     "status": "ok",
     "timestamp": 1590334954274,
     "user": {
      "displayName": "Veeraraghavan Narasimhan",
      "photoUrl": "https://lh3.googleusercontent.com/a-/AOh14GiWeOc4XrzIQGnj_hTzHSLIEqe1IWE2MUPlab4r3T4=s64",
      "userId": "14804371943581230761"
     },
     "user_tz": -330
    },
    "id": "Zd4joNpMKDzT",
    "outputId": "26dcbafa-8c36-4a66-d22c-f89df551a979"
   },
   "outputs": [
    {
     "name": "stdout",
     "output_type": "stream",
     "text": [
      "{False: 8873, True: 1127}\n",
      "Epoch: 1, Time Spent: 1.17s, Accuracy: 11.27, Cost: 15.36814615158172\n",
      "{False: 8526, True: 1474}\n",
      "Epoch: 2, Time Spent: 2.69s, Accuracy: 14.74, Cost: 9.138420453340727\n",
      "{False: 8536, True: 1464}\n",
      "Epoch: 3, Time Spent: 4.19s, Accuracy: 14.64, Cost: 7.130971803610489\n"
     ]
    },
    {
     "name": "stderr",
     "output_type": "stream",
     "text": [
      "/Applications/anaconda3/lib/python3.7/site-packages/ipykernel_launcher.py:27: RuntimeWarning: overflow encountered in exp\n"
     ]
    },
    {
     "name": "stdout",
     "output_type": "stream",
     "text": [
      "{False: 7060, True: 2940}\n",
      "Epoch: 4, Time Spent: 5.61s, Accuracy: 29.4, Cost: 6.004593813444616\n",
      "{False: 6258, True: 3742}\n",
      "Epoch: 5, Time Spent: 7.10s, Accuracy: 37.419999999999995, Cost: 5.0641475714821365\n",
      "{False: 5537, True: 4463}\n",
      "Epoch: 6, Time Spent: 8.59s, Accuracy: 44.629999999999995, Cost: 4.523998360041939\n",
      "{False: 5498, True: 4502}\n",
      "Epoch: 7, Time Spent: 10.06s, Accuracy: 45.019999999999996, Cost: 4.212043254725993\n",
      "{False: 4162, True: 5838}\n",
      "Epoch: 8, Time Spent: 11.59s, Accuracy: 58.379999999999995, Cost: 4.111045541150699\n",
      "{False: 4606, True: 5394}\n",
      "Epoch: 9, Time Spent: 13.13s, Accuracy: 53.94, Cost: 4.084861643097223\n",
      "{False: 3528, True: 6472}\n",
      "Epoch: 10, Time Spent: 14.60s, Accuracy: 64.72, Cost: 4.247566276354262\n",
      "{False: 3665, True: 6335}\n",
      "Epoch: 11, Time Spent: 16.15s, Accuracy: 63.349999999999994, Cost: 4.224800982935017\n",
      "{False: 2947, True: 7053}\n",
      "Epoch: 12, Time Spent: 17.68s, Accuracy: 70.53, Cost: 4.314921258581491\n",
      "{False: 3159, True: 6841}\n",
      "Epoch: 13, Time Spent: 19.16s, Accuracy: 68.41000000000001, Cost: 4.293589676243761\n",
      "{False: 2505, True: 7495}\n",
      "Epoch: 14, Time Spent: 20.77s, Accuracy: 74.95, Cost: 4.373444923974776\n",
      "{False: 2780, True: 7220}\n",
      "Epoch: 15, Time Spent: 22.36s, Accuracy: 72.2, Cost: 4.368688519158176\n",
      "{False: 2238, True: 7762}\n",
      "Epoch: 16, Time Spent: 23.87s, Accuracy: 77.62, Cost: 4.439549743089453\n",
      "{False: 2549, True: 7451}\n",
      "Epoch: 17, Time Spent: 25.48s, Accuracy: 74.51, Cost: 4.462643867197765\n",
      "{False: 2125, True: 7875}\n",
      "Epoch: 18, Time Spent: 27.07s, Accuracy: 78.75, Cost: 4.535655522663085\n",
      "{False: 2481, True: 7519}\n",
      "Epoch: 19, Time Spent: 28.57s, Accuracy: 75.19, Cost: 4.5521678588242755\n",
      "{False: 2061, True: 7939}\n",
      "Epoch: 20, Time Spent: 30.20s, Accuracy: 79.39, Cost: 4.633914029861354\n",
      "{False: 2354, True: 7646}\n",
      "Epoch: 21, Time Spent: 31.83s, Accuracy: 76.46, Cost: 4.638517165088756\n",
      "{False: 1942, True: 8058}\n",
      "Epoch: 22, Time Spent: 33.37s, Accuracy: 80.58, Cost: 4.721167768717911\n",
      "{False: 2245, True: 7755}\n",
      "Epoch: 23, Time Spent: 34.97s, Accuracy: 77.55, Cost: 4.717117762153246\n",
      "{False: 1764, True: 8236}\n",
      "Epoch: 24, Time Spent: 36.56s, Accuracy: 82.36, Cost: 4.802207062959997\n",
      "{False: 2093, True: 7907}\n",
      "Epoch: 25, Time Spent: 38.12s, Accuracy: 79.07, Cost: 4.776066689181149\n",
      "{False: 1769, True: 8231}\n",
      "Epoch: 26, Time Spent: 39.80s, Accuracy: 82.31, Cost: 4.860808439928804\n",
      "{False: 2018, True: 7982}\n",
      "Epoch: 27, Time Spent: 41.45s, Accuracy: 79.82000000000001, Cost: 4.864965713791326\n",
      "{False: 1723, True: 8277}\n",
      "Epoch: 28, Time Spent: 43.01s, Accuracy: 82.77, Cost: 4.93109562900861\n",
      "{False: 1920, True: 8080}\n",
      "Epoch: 29, Time Spent: 44.69s, Accuracy: 80.80000000000001, Cost: 4.949657852923438\n",
      "{False: 1633, True: 8367}\n",
      "Epoch: 30, Time Spent: 46.38s, Accuracy: 83.67, Cost: 4.974880675202027\n",
      "{False: 1788, True: 8212}\n",
      "Epoch: 31, Time Spent: 47.99s, Accuracy: 82.12, Cost: 5.0099703308528625\n",
      "{False: 1567, True: 8433}\n",
      "Epoch: 32, Time Spent: 49.66s, Accuracy: 84.33, Cost: 5.049276218878809\n",
      "{False: 1688, True: 8312}\n",
      "Epoch: 33, Time Spent: 51.31s, Accuracy: 83.12, Cost: 5.067656242647304\n",
      "{False: 1503, True: 8497}\n",
      "Epoch: 34, Time Spent: 52.87s, Accuracy: 84.97, Cost: 5.1090041150830805\n",
      "{False: 1568, True: 8432}\n",
      "Epoch: 35, Time Spent: 54.58s, Accuracy: 84.32, Cost: 5.122003847714417\n",
      "{False: 1454, True: 8546}\n",
      "Epoch: 36, Time Spent: 56.27s, Accuracy: 85.46000000000001, Cost: 5.159335374143077\n",
      "{False: 1516, True: 8484}\n",
      "Epoch: 37, Time Spent: 57.85s, Accuracy: 84.84, Cost: 5.17470925175984\n",
      "{False: 1436, True: 8564}\n",
      "Epoch: 38, Time Spent: 59.53s, Accuracy: 85.64, Cost: 5.2085673387945794\n",
      "{False: 1446, True: 8554}\n",
      "Epoch: 39, Time Spent: 61.19s, Accuracy: 85.54, Cost: 5.229719385539143\n",
      "{False: 1409, True: 8591}\n",
      "Epoch: 40, Time Spent: 62.75s, Accuracy: 85.91, Cost: 5.262758479385701\n",
      "{False: 1430, True: 8570}\n",
      "Epoch: 41, Time Spent: 64.42s, Accuracy: 85.7, Cost: 5.265689322523673\n",
      "{False: 1391, True: 8609}\n",
      "Epoch: 42, Time Spent: 66.09s, Accuracy: 86.09, Cost: 5.307919297344242\n",
      "{False: 1408, True: 8592}\n",
      "Epoch: 43, Time Spent: 67.65s, Accuracy: 85.92, Cost: 5.332278690227124\n",
      "{False: 1359, True: 8641}\n",
      "Epoch: 44, Time Spent: 69.26s, Accuracy: 86.41, Cost: 5.340786681812088\n",
      "{False: 1368, True: 8632}\n",
      "Epoch: 45, Time Spent: 70.92s, Accuracy: 86.32, Cost: 5.3848596703402425\n",
      "{False: 1349, True: 8651}\n",
      "Epoch: 46, Time Spent: 72.45s, Accuracy: 86.50999999999999, Cost: 5.406661918878939\n",
      "{False: 1333, True: 8667}\n",
      "Epoch: 47, Time Spent: 74.09s, Accuracy: 86.67, Cost: 5.440726518608159\n",
      "{False: 1275, True: 8725}\n",
      "Epoch: 48, Time Spent: 75.69s, Accuracy: 87.25, Cost: 5.452681823293862\n",
      "{False: 1306, True: 8694}\n",
      "Epoch: 49, Time Spent: 77.21s, Accuracy: 86.94, Cost: 5.483003864422136\n",
      "{False: 1269, True: 8731}\n",
      "Epoch: 50, Time Spent: 78.82s, Accuracy: 87.31, Cost: 5.494782269785528\n"
     ]
    },
    {
     "data": {
      "image/png": "[encoded data removed]",
      "text/plain": [
       "<Figure size 432x288 with 1 Axes>"
      ]
     },
     "metadata": {
      "needs_background": "light"
     },
     "output_type": "display_data"
    },
    {
     "data": {
      "image/png": "[encoded data removed]",
      "text/plain": [
       "<Figure size 432x288 with 1 Axes>"
      ]
     },
     "metadata": {
      "needs_background": "light"
     },
     "output_type": "display_data"
    }
   ],
   "source": [
    "mnist = gnn(dims = [784,128,10], activations = [\"sigmoid\", \"sigmoid\"], epochs = 50, lr = 0.4)\n",
    "mnist.train(X_train, Y_train, X_test, Y_test)"
   ]
  },
  {
   "cell_type": "markdown",
   "metadata": {},
   "source": [
    "# 6. Model performance"
   ]
  },
  {
   "cell_type": "code",
   "execution_count": 239,
   "metadata": {},
   "outputs": [
    {
     "data": {
      "image/png": "[encoded data removed]",
      "text/plain": [
       "<Figure size 432x288 with 20 Axes>"
      ]
     },
     "metadata": {
      "needs_background": "light"
     },
     "output_type": "display_data"
    }
   ],
   "source": [
    "mnist.forward_prop(X_test)\n",
    "Y_predict = mnist.params[\"A\"+str(len(mnist.dims)-1)]\n",
    "Y_pred = np.argmax(Y_predict, axis = 0).flatten()\n",
    "i=0\n",
    "p=0\n",
    "for p in range(60000):\n",
    "    if(test_arr[p][0] != Y_pred[p]):\n",
    "        image = test_arr[p][1:].reshape(28, 28)\n",
    "        plt.subplot(4, 5, i+1)\n",
    "        plt.imshow(image, cmap='gray')\n",
    "        plt.title('pred = {0}'.format(Y_pred[p]))\n",
    "        plt.axis('off')\n",
    "        i+=1\n",
    "    if(i == 20):\n",
    "        break\n",
    "plt.tight_layout()\n",
    "plt.show()"
   ]
  },
  {
   "cell_type": "code",
   "execution_count": 257,
   "metadata": {},
   "outputs": [
    {
     "data": {
      "image/png": "[encoded data removed]",
      "text/plain": [
       "<Figure size 432x288 with 20 Axes>"
      ]
     },
     "metadata": {
      "needs_background": "light"
     },
     "output_type": "display_data"
    }
   ],
   "source": [
    "mnist.forward_prop(X_test)\n",
    "Y_predict = mnist.params[\"A\"+str(len(mnist.dims)-1)]\n",
    "Y_pred = np.argmax(Y_predict, axis = 0).flatten()\n",
    "i=0\n",
    "p=0\n",
    "for p in range(60000):\n",
    "    if(test_arr[p][0] == Y_pred[p]):\n",
    "        image = test_arr[p][1:].reshape(28, 28)\n",
    "        plt.subplot(4, 5, i+1)\n",
    "        plt.imshow(image, cmap='gray')\n",
    "        plt.title('pred = {0}'.format(Y_pred[p]))\n",
    "        plt.axis('off')\n",
    "        i+=1\n",
    "    if(i == 20):\n",
    "        break\n",
    "plt.tight_layout()\n",
    "plt.show()"
   ]
  },
  {
   "cell_type": "code",
   "execution_count": 243,
   "metadata": {},
   "outputs": [
    {
     "data": {
      "text/plain": [
       "(-0.5, 27.5, 27.5, -0.5)"
      ]
     },
     "execution_count": 243,
     "metadata": {},
     "output_type": "execute_result"
    },
    {
     "data": {
      "image/png": "[encoded data removed]",
      "text/plain": [
       "<Figure size 432x288 with 1 Axes>"
      ]
     },
     "metadata": {
      "needs_background": "light"
     },
     "output_type": "display_data"
    }
   ],
   "source": [
    "i=77\n",
    "image = test_arr[i][1:].reshape(28, 28)\n",
    "plt.imshow(image, cmap='gray')\n",
    "plt.title('label = {0}, model predicted = {1}'.format(test_arr[i][0],Y_pred[i]))\n",
    "plt.axis('off')"
   ]
  },
  {
   "cell_type": "markdown",
   "metadata": {},
   "source": [
    "# 7.Input your own image (.png file with white background and black number)"
   ]
  },
  {
   "cell_type": "code",
   "execution_count": 263,
   "metadata": {},
   "outputs": [
    {
     "name": "stdout",
     "output_type": "stream",
     "text": [
      "[9]\n"
     ]
    },
    {
     "data": {
      "text/plain": [
       "(-0.5, 27.5, 27.5, -0.5)"
      ]
     },
     "execution_count": 263,
     "metadata": {},
     "output_type": "execute_result"
    },
    {
     "data": {
      "image/png": "[encoded data removed]",
      "text/plain": [
       "<Figure size 432x288 with 1 Axes>"
      ]
     },
     "metadata": {
      "needs_background": "light"
     },
     "output_type": "display_data"
    }
   ],
   "source": [
    "from PIL import Image, ImageFilter\n",
    "def imageprepare(argv):\n",
    "    im = Image.open(argv).convert('L')\n",
    "    width = float(im.size[0])\n",
    "    height = float(im.size[1])\n",
    "    newImage = Image.new('L', (28, 28), (255))\n",
    "\n",
    "    if width > height:\n",
    "        nheight = int(round((20.0 / width * height), 0))\n",
    "        if (nheight == 0):\n",
    "            nheight = 1\n",
    "        img = im.resize((20, nheight), Image.ANTIALIAS).filter(ImageFilter.SHARPEN)\n",
    "        wtop = int(round(((28 - nheight) / 2), 0))\n",
    "        newImage.paste(img, (4, wtop))\n",
    "    else:\n",
    "        nwidth = int(round((20.0 / height * width), 0))\n",
    "        if (nwidth == 0):\n",
    "            nwidth = 1\n",
    "        img = im.resize((nwidth, 20), Image.ANTIALIAS).filter(ImageFilter.SHARPEN)\n",
    "        wleft = int(round(((28 - nwidth) / 2), 0))\n",
    "        newImage.paste(img, (wleft, 4))\n",
    "\n",
    "    tv = list(newImage.getdata())\n",
    "\n",
    "    tva = [(255 - x) * 1.0 / 255.0 for x in tv]\n",
    "    return tva\n",
    "\n",
    "x=imageprepare('img9.png') #file path here (png)\n",
    "x = np.array(x).reshape(-1,1)\n",
    "mnist.forward_prop(x)\n",
    "Y_predict = mnist.params[\"A\"+str(len(mnist.dims)-1)]\n",
    "Y_pred = np.argmax(Y_predict, axis = 0).flatten()\n",
    "image = x.reshape(28, 28)\n",
    "plt.imshow(image, cmap='gray')\n",
    "print(Y_pred)\n",
    "plt.title('model predicted = {0}'.format(Y_pred[0]))\n",
    "plt.axis('off')"
   ]
  }
 ],
 "metadata": {
  "colab": {
   "collapsed_sections": [],
   "name": "mnistnn.ipynb",
   "provenance": [],
   "toc_visible": true
  },
  "kernelspec": {
   "display_name": "Python 3",
   "language": "python",
   "name": "python3"
  },
  "language_info": {
   "codemirror_mode": {
    "name": "ipython",
    "version": 3
   },
   "file_extension": ".py",
   "mimetype": "text/x-python",
   "name": "python",
   "nbconvert_exporter": "python",
   "pygments_lexer": "ipython3",
   "version": "3.7.4"
  }
 },
 "nbformat": 4,
 "nbformat_minor": 1
}
