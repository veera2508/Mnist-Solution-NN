{
 "cells": [
  {
   "cell_type": "markdown",
   "metadata": {
    "colab_type": "text",
    "id": "kwHeuLM7Ly1p"
   },
   "source": [
    "# 1. Importing the Libraries and Dataset\n",
    "\n"
   ]
  },
  {
   "cell_type": "code",
   "execution_count": 1,
   "metadata": {
    "colab": {},
    "colab_type": "code",
    "id": "CFL5sZMfLsmU"
   },
   "outputs": [],
   "source": [
    "import numpy as np\n",
    "import matplotlib\n",
    "import matplotlib.pyplot as plt\n",
    "import pandas as pd\n",
    "import sklearn\n",
    "import time\n",
    "%matplotlib inline\n",
    "\n",
    "\n",
    "\n",
    "train = pd.read_csv(\"mnist_train.csv\")\n",
    "test = pd.read_csv(\"mnist_test.csv\")\n"
   ]
  },
  {
   "cell_type": "markdown",
   "metadata": {
    "colab_type": "text",
    "id": "sat3mgjTNBeN"
   },
   "source": [
    "# 2. Visualizing the dataset"
   ]
  },
  {
   "cell_type": "code",
   "execution_count": 2,
   "metadata": {
    "colab": {
     "base_uri": "https://localhost:8080/",
     "height": 153
    },
    "colab_type": "code",
    "executionInfo": {
     "elapsed": 2134,
     "status": "ok",
     "timestamp": 1590333981350,
     "user": {
      "displayName": "Veeraraghavan Narasimhan",
      "photoUrl": "https://lh3.googleusercontent.com/a-/AOh14GiWeOc4XrzIQGnj_hTzHSLIEqe1IWE2MUPlab4r3T4=s64",
      "userId": "14804371943581230761"
     },
     "user_tz": -330
    },
    "id": "ZBpcBIaFNGl7",
    "outputId": "8eba256e-14ad-49bd-fa04-b5e8b9971e72"
   },
   "outputs": [
    {
     "name": "stdout",
     "output_type": "stream",
     "text": [
      "[[5 0 0 ... 0 0 0]\n",
      " [0 0 0 ... 0 0 0]\n",
      " [4 0 0 ... 0 0 0]\n",
      " ...\n",
      " [5 0 0 ... 0 0 0]\n",
      " [6 0 0 ... 0 0 0]\n",
      " [8 0 0 ... 0 0 0]]\n",
      "(60000, 785)\n"
     ]
    },
    {
     "data": {
      "image/png": "[encoded data removed]",
      "text/plain": [
       "<Figure size 432x288 with 20 Axes>"
      ]
     },
     "metadata": {
      "needs_background": "light"
     },
     "output_type": "display_data"
    }
   ],
   "source": [
    "train_arr = np.array(train.values)\n",
    "test_arr = np.array(test.values)\n",
    "print(train_arr)\n",
    "print(train_arr.shape)\n",
    "for i in range(20):\n",
    "    image = train_arr[i][1:].reshape(28, 28)\n",
    "    plt.subplot(4, 5, i+1)\n",
    "    plt.imshow(image, cmap='gray')\n",
    "    plt.title('label = {}'.format(train_arr[i][0]))\n",
    "    plt.axis('off')\n",
    "plt.tight_layout()\n",
    "plt.show()"
   ]
  },
  {
   "cell_type": "markdown",
   "metadata": {
    "colab_type": "text",
    "id": "B99zYwZwOLTK"
   },
   "source": [
    "# 3. Model Architecture\n",
    "\n",
    "* This is going to be a 3 layer nn model with 2 hidden layers\n",
    "* The diementions of each of the hidden layer is [150,75]\n",
    "* The input is a 28x28 image file which we are going to feed as a list of 784 (28x28) pixels\n",
    "* The ouput will be checked with the label and the loss function would be standard lr loss function"
   ]
  },
  {
   "cell_type": "markdown",
   "metadata": {
    "colab_type": "text",
    "id": "pUC-U8iKSRVh"
   },
   "source": [
    "# 4. Reshaping the datasets"
   ]
  },
  {
   "cell_type": "code",
   "execution_count": 3,
   "metadata": {
    "colab": {},
    "colab_type": "code",
    "id": "BTx3q3_ZP0p4"
   },
   "outputs": [
    {
     "name": "stdout",
     "output_type": "stream",
     "text": [
      "(784, 60000) (10, 60000)\n",
      "(784, 10000) (1, 10000)\n"
     ]
    },
    {
     "name": "stderr",
     "output_type": "stream",
     "text": [
      "/Applications/anaconda3/lib/python3.7/site-packages/sklearn/preprocessing/_encoders.py:415: FutureWarning: The handling of integer data will change in version 0.22. Currently, the categories are determined based on the range [0, max(values)], while in the future they will be determined based on the unique values.\n",
      "If you want the future behaviour and silence this warning, you can specify \"categories='auto'\".\n",
      "In case you used a LabelEncoder before this OneHotEncoder to convert the categories to integers, then you can now use the OneHotEncoder directly.\n",
      "  warnings.warn(msg, FutureWarning)\n"
     ]
    }
   ],
   "source": [
    "from sklearn.preprocessing import OneHotEncoder\n",
    "enc = OneHotEncoder()\n",
    "\n",
    "X_train = train_arr[:,1:]\n",
    "Y_train = train_arr[:,0].reshape(-1,1)\n",
    "Y_train = enc.fit_transform(Y_train)\n",
    "Y_train = Y_train.toarray()\n",
    "X_train = X_train.T\n",
    "X_train = np.array(X_train)\n",
    "Y_train = Y_train.T\n",
    "print(X_train.shape,Y_train.shape)\n",
    "X_test = test_arr[:,1:]\n",
    "Y_test = test_arr[:,0].reshape(-1,1)\n",
    "X_test = X_test.T\n",
    "Y_test = Y_test.T\n",
    "X_test = np.array(X_test)\n",
    "print(X_test.shape,Y_test.shape)"
   ]
  },
  {
   "cell_type": "markdown",
   "metadata": {
    "colab_type": "text",
    "id": "4Lu7iD9MKDy1"
   },
   "source": [
    "# 5. Model Class"
   ]
  },
  {
   "cell_type": "code",
   "execution_count": 32,
   "metadata": {
    "colab": {},
    "colab_type": "code",
    "id": "czPoHb9eKDy1"
   },
   "outputs": [],
   "source": [
    "class gnn:\n",
    "    def __init__(self, dims, activations, epochs, lr, b_size):\n",
    "        self.dims = dims\n",
    "        self.activations = activations\n",
    "        self.epochs = epochs\n",
    "        self.lr = lr\n",
    "        self.b_size = b_size\n",
    "        self.params={}\n",
    "        self.grads={}\n",
    "        self.initialize_parameters()\n",
    "        \n",
    "    def sigmoid(self,Z):\n",
    "        A = 1/(1+np.exp(-Z))\n",
    "        return A\n",
    "\n",
    "    def relu(self,Z):\n",
    "        A = np.maximum(0,Z)\n",
    "        return A\n",
    "\n",
    "    def relu_backward(self,dA, cache):\n",
    "        Z = cache\n",
    "        dZ = np.array(dA)\n",
    "        dZ[Z <= 0] = 0\n",
    "        return dZ\n",
    "\n",
    "    def sigmoid_backward(self,dA, cache):\n",
    "        Z = cache \n",
    "        s = 1/(1+np.exp(-Z))\n",
    "        dZ = dA * s * (1-s)\n",
    "        return dZ\n",
    "    \n",
    "    def initialize_parameters(self):\n",
    "        dims = self.dims\n",
    "        params = self.params\n",
    "        L = len(dims)\n",
    "        for l in range(1,L):\n",
    "            params[\"W\"+str(l)] = np.random.randn(dims[l],dims[l-1]) * np.sqrt(1. /dims[l])\n",
    "            params[\"b\"+str(l)] = np.zeros((dims[l],1))\n",
    "        self.params = params\n",
    "    \n",
    "    def forward_prop(self,X):\n",
    "        L = len(self.dims)\n",
    "        params = self.params\n",
    "        activations = self.activations\n",
    "        params['A0'] = X\n",
    "        \n",
    "        for l in range(1,L):\n",
    "            params[\"Z\"+str(l)] = np.dot(params[\"W\"+str(l)], params[\"A\"+str(l-1)]) + params[\"b\"+str(l)]\n",
    "            if activations[l-1] == \"relu\":    \n",
    "                params[\"A\"+str(l)] = self.relu(params[\"Z\"+str(l)])\n",
    "            elif activations[l-1] == \"sigmoid\":    \n",
    "                params[\"A\"+str(l)] = self.sigmoid(params[\"Z\"+str(l)])\n",
    "        self.params = params\n",
    "    \n",
    "    def compute_cost(self,Y):\n",
    "        L = len(self.dims)\n",
    "        params = self.params\n",
    "        AL = params[\"A\" + str(L-1)]\n",
    "        m = Y.shape[1]\n",
    "        mse = np.sum((np.power(AL-Y,2)),axis=0,keepdims=True)\n",
    "        cost = (1/10) * np.sum((1./m) * (np.dot(Y,np.log(AL).T) - np.dot(1-Y, np.log(1-AL).T)))\n",
    "        return cost\n",
    "    \n",
    "    def back_prop(self,Y):\n",
    "        L = len(self.dims)\n",
    "        m = Y.shape[1]\n",
    "        params = self.params\n",
    "        grads = self.grads\n",
    "        activations = self.activations\n",
    "        AL = params[\"A\" + str(L-1)] \n",
    "        dA = np.divide(AL-Y, (1 - AL) *  AL)\n",
    "        \n",
    "        for l in reversed(range(1,L)):\n",
    "            if(activations[l-1] == \"relu\"):\n",
    "                dZ = self.relu_backward(dA, params[\"Z\"+str(l)])\n",
    "            elif(activations[l-1] == \"sigmoid\"):\n",
    "                dZ = self.sigmoid_backward(dA, params[\"Z\"+str(l)])\n",
    "            grads[\"dW\"+str(l)] = (1/m) * np.dot(dZ, params[\"A\"+str(l-1)].T)\n",
    "            grads[\"db\"+str(l)] = (1/m) * np.sum(dZ, axis=1, keepdims=True)\n",
    "            dA = np.dot(params[\"W\"+str(l)].T, dZ)\n",
    "        self.params = params\n",
    "        self.grads = grads\n",
    "    \n",
    "    def update_params(self):\n",
    "        L = len(self.dims)\n",
    "        lr = self.lr\n",
    "        grads = self.grads\n",
    "        params = self.params\n",
    "        for l in range(1,L):\n",
    "            params[\"W\"+str(l)] -= grads[\"dW\"+str(l)]*lr\n",
    "            params[\"b\"+str(l)] -= grads[\"db\"+str(l)]*lr\n",
    "        params = self.params\n",
    "    \n",
    "    def accuracy(self, X_val, Y_val):\n",
    "        self.forward_prop(X_val)\n",
    "        L = len(self.dims)\n",
    "        Y_predict = self.params[\"A\"+str(L-1)]\n",
    "        Y_pred = np.argmax(Y_predict, axis = 0).reshape(1,-1)\n",
    "        m = Y_val.shape[1]\n",
    "        preds = ((Y_val) == (Y_pred))\n",
    "        unique, counts = np.unique(preds, return_counts=True)\n",
    "        preds = dict(zip(unique, counts))\n",
    "        print(preds)\n",
    "        accu = ((preds[True])/m)*100\n",
    "        return accu\n",
    "    \n",
    "    def train(self, X, Y, X_val, Y_val):\n",
    "        costs = []\n",
    "        accus = []\n",
    "        b_size = self.b_size\n",
    "        m = Y.shape[1]\n",
    "        n_batches = m//b_size\n",
    "        start_time = time.time()\n",
    "        for i in range(self.epochs):\n",
    "            ll = 0\n",
    "            for j in range(n_batches):\n",
    "                ul = ll + b_size-1\n",
    "                XT = X[:,ll:ul]\n",
    "                YT = Y[:,ll:ul]\n",
    "                self.forward_prop(XT)\n",
    "\n",
    "                cost = self.compute_cost(YT)\n",
    "                self.back_prop(YT)\n",
    "\n",
    "                self.update_params()\n",
    "\n",
    "                \n",
    "                ll += b_size\n",
    "                \n",
    "            costs.append(cost)\n",
    "            accu = self.accuracy(X_val, Y_val)\n",
    "            accus.append(accu)\n",
    "            print('Epoch: {0}, Time Spent: {1:.2f}s, Accuracy: {2}, Cost: {3}'.format(\n",
    "                    i+1, time.time() - start_time, accu, cost))\n",
    "        \n",
    "        plt.plot(np.squeeze(costs))\n",
    "        plt.ylabel('cost')\n",
    "        plt.xlabel('epochs')\n",
    "        plt.title(\"Learning rate =\" + str(self.lr))\n",
    "        plt.show()\n",
    "        \n",
    "        plt.plot(np.squeeze(accus))\n",
    "        plt.ylabel('accuracy')\n",
    "        plt.xlabel('epochs')\n",
    "        plt.title(\"Learning rate =\" + str(self.lr))\n",
    "        plt.show()\n",
    "            "
   ]
  },
  {
   "cell_type": "markdown",
   "metadata": {
    "colab_type": "text",
    "id": "XHEp6cKdKDzT"
   },
   "source": [
    "# 7. Training the model"
   ]
  },
  {
   "cell_type": "code",
   "execution_count": 47,
   "metadata": {
    "colab": {
     "base_uri": "https://localhost:8080/",
     "height": 1000
    },
    "colab_type": "code",
    "executionInfo": {
     "elapsed": 20744,
     "status": "ok",
     "timestamp": 1590334954274,
     "user": {
      "displayName": "Veeraraghavan Narasimhan",
      "photoUrl": "https://lh3.googleusercontent.com/a-/AOh14GiWeOc4XrzIQGnj_hTzHSLIEqe1IWE2MUPlab4r3T4=s64",
      "userId": "14804371943581230761"
     },
     "user_tz": -330
    },
    "id": "Zd4joNpMKDzT",
    "outputId": "26dcbafa-8c36-4a66-d22c-f89df551a979"
   },
   "outputs": [
    {
     "name": "stdout",
     "output_type": "stream",
     "text": [
      "{False: 1245, True: 8755}\n",
      "Epoch: 1, Time Spent: 0.64s, Accuracy: 87.55, Cost: -2.3081448548599304\n",
      "{False: 1049, True: 8951}\n",
      "Epoch: 2, Time Spent: 1.31s, Accuracy: 89.51, Cost: -2.3749475161205873\n",
      "{False: 905, True: 9095}\n",
      "Epoch: 3, Time Spent: 1.98s, Accuracy: 90.95, Cost: -2.434638136052556\n",
      "{False: 835, True: 9165}\n",
      "Epoch: 4, Time Spent: 2.68s, Accuracy: 91.64999999999999, Cost: -2.5062717622473376\n",
      "{False: 755, True: 9245}\n",
      "Epoch: 5, Time Spent: 3.38s, Accuracy: 92.45, Cost: -2.4928517585083703\n",
      "{False: 746, True: 9254}\n",
      "Epoch: 6, Time Spent: 4.08s, Accuracy: 92.54, Cost: -2.4534479570827696\n",
      "{False: 705, True: 9295}\n",
      "Epoch: 7, Time Spent: 4.83s, Accuracy: 92.95, Cost: -2.418241027494461\n",
      "{False: 641, True: 9359}\n",
      "Epoch: 8, Time Spent: 5.58s, Accuracy: 93.58999999999999, Cost: -2.515750494389363\n",
      "{False: 684, True: 9316}\n",
      "Epoch: 9, Time Spent: 6.34s, Accuracy: 93.16, Cost: -2.5762123964281467\n",
      "{False: 629, True: 9371}\n",
      "Epoch: 10, Time Spent: 7.11s, Accuracy: 93.71000000000001, Cost: -2.6847895854651105\n",
      "{False: 626, True: 9374}\n",
      "Epoch: 11, Time Spent: 7.91s, Accuracy: 93.74, Cost: -2.639881458327155\n",
      "{False: 599, True: 9401}\n",
      "Epoch: 12, Time Spent: 8.69s, Accuracy: 94.01, Cost: -2.571966262933452\n",
      "{False: 635, True: 9365}\n",
      "Epoch: 13, Time Spent: 9.51s, Accuracy: 93.65, Cost: -2.7297668112999425\n",
      "{False: 617, True: 9383}\n",
      "Epoch: 14, Time Spent: 10.33s, Accuracy: 93.83, Cost: -2.5506090178308694\n",
      "{False: 592, True: 9408}\n",
      "Epoch: 15, Time Spent: 11.17s, Accuracy: 94.08, Cost: -2.688574671831784\n",
      "{False: 578, True: 9422}\n",
      "Epoch: 16, Time Spent: 12.03s, Accuracy: 94.22, Cost: -2.603666970729218\n",
      "{False: 556, True: 9444}\n",
      "Epoch: 17, Time Spent: 12.92s, Accuracy: 94.44, Cost: -2.4650106182404548\n",
      "{False: 542, True: 9458}\n",
      "Epoch: 18, Time Spent: 13.76s, Accuracy: 94.58, Cost: -2.6334077680837833\n",
      "{False: 555, True: 9445}\n",
      "Epoch: 19, Time Spent: 14.60s, Accuracy: 94.45, Cost: -2.6602435746236246\n",
      "{False: 528, True: 9472}\n",
      "Epoch: 20, Time Spent: 15.46s, Accuracy: 94.72, Cost: -2.7106960907114654\n"
     ]
    },
    {
     "data": {
      "image/png": "[encoded data removed]",
      "text/plain": [
       "<Figure size 432x288 with 1 Axes>"
      ]
     },
     "metadata": {
      "needs_background": "light"
     },
     "output_type": "display_data"
    },
    {
     "data": {
      "image/png": "[encoded data removed]",
      "text/plain": [
       "<Figure size 432x288 with 1 Axes>"
      ]
     },
     "metadata": {
      "needs_background": "light"
     },
     "output_type": "display_data"
    }
   ],
   "source": [
    "mnist = gnn(dims = [784,150,10], activations = [\"sigmoid\",\"sigmoid\"], epochs = 20, lr = 0.1)\n",
    "mnist.train(X_train, Y_train, X_test, Y_test)"
   ]
  },
  {
   "cell_type": "markdown",
   "metadata": {},
   "source": [
    "# 6. Model performance"
   ]
  },
  {
   "cell_type": "code",
   "execution_count": 51,
   "metadata": {},
   "outputs": [
    {
     "data": {
      "image/png": "[encoded data removed]",
      "text/plain": [
       "<Figure size 432x288 with 20 Axes>"
      ]
     },
     "metadata": {
      "needs_background": "light"
     },
     "output_type": "display_data"
    }
   ],
   "source": [
    "mnist.forward_prop(X_test)\n",
    "Y_predict = mnist.params[\"A\"+str(len(mnist.dims)-1)]\n",
    "Y_pred = np.argmax(Y_predict, axis = 0).flatten()\n",
    "i=0\n",
    "p=0\n",
    "for p in range(60000):\n",
    "    if(test_arr[p][0] != Y_pred[p]):\n",
    "        image = test_arr[p][1:].reshape(28, 28)\n",
    "        plt.subplot(4, 5, i+1)\n",
    "        plt.imshow(image, cmap='gray')\n",
    "        plt.title('pred = {0}'.format(Y_pred[p]))\n",
    "        plt.axis('off')\n",
    "        i+=1\n",
    "    if(i == 20):\n",
    "        break\n",
    "plt.tight_layout()\n",
    "plt.show()"
   ]
  },
  {
   "cell_type": "code",
   "execution_count": 52,
   "metadata": {},
   "outputs": [
    {
     "data": {
      "image/png": "[encoded data removed]",
      "text/plain": [
       "<Figure size 432x288 with 20 Axes>"
      ]
     },
     "metadata": {
      "needs_background": "light"
     },
     "output_type": "display_data"
    }
   ],
   "source": [
    "mnist.forward_prop(X_test)\n",
    "Y_predict = mnist.params[\"A\"+str(len(mnist.dims)-1)]\n",
    "Y_pred = np.argmax(Y_predict, axis = 0).flatten()\n",
    "i=0\n",
    "p=0\n",
    "for p in range(60000):\n",
    "    if(test_arr[p][0] == Y_pred[p]):\n",
    "        image = test_arr[p][1:].reshape(28, 28)\n",
    "        plt.subplot(4, 5, i+1)\n",
    "        plt.imshow(image, cmap='gray')\n",
    "        plt.title('pred = {0}'.format(Y_pred[p]))\n",
    "        plt.axis('off')\n",
    "        i+=1\n",
    "    if(i == 20):\n",
    "        break\n",
    "plt.tight_layout()\n",
    "plt.show()"
   ]
  },
  {
   "cell_type": "code",
   "execution_count": 53,
   "metadata": {},
   "outputs": [
    {
     "data": {
      "text/plain": [
       "(-0.5, 27.5, 27.5, -0.5)"
      ]
     },
     "execution_count": 53,
     "metadata": {},
     "output_type": "execute_result"
    },
    {
     "data": {
      "image/png": "[encoded data removed]",
      "text/plain": [
       "<Figure size 432x288 with 1 Axes>"
      ]
     },
     "metadata": {
      "needs_background": "light"
     },
     "output_type": "display_data"
    }
   ],
   "source": [
    "i=77\n",
    "image = test_arr[i][1:].reshape(28, 28)\n",
    "plt.imshow(image, cmap='gray')\n",
    "plt.title('label = {0}, model predicted = {1}'.format(test_arr[i][0],Y_pred[i]))\n",
    "plt.axis('off')"
   ]
  },
  {
   "cell_type": "markdown",
   "metadata": {},
   "source": [
    "# 7.Input your own image (.png file with white background and black number)"
   ]
  },
  {
   "cell_type": "code",
   "execution_count": 54,
   "metadata": {},
   "outputs": [
    {
     "name": "stdout",
     "output_type": "stream",
     "text": [
      "[9]\n"
     ]
    },
    {
     "data": {
      "text/plain": [
       "(-0.5, 27.5, 27.5, -0.5)"
      ]
     },
     "execution_count": 54,
     "metadata": {},
     "output_type": "execute_result"
    },
    {
     "data": {
      "image/png": "[encoded data removed]",
      "text/plain": [
       "<Figure size 432x288 with 1 Axes>"
      ]
     },
     "metadata": {
      "needs_background": "light"
     },
     "output_type": "display_data"
    }
   ],
   "source": [
    "from PIL import Image, ImageFilter\n",
    "def imageprepare(argv):\n",
    "    im = Image.open(argv).convert('L')\n",
    "    width = float(im.size[0])\n",
    "    height = float(im.size[1])\n",
    "    newImage = Image.new('L', (28, 28), (255))\n",
    "\n",
    "    if width > height:\n",
    "        nheight = int(round((20.0 / width * height), 0))\n",
    "        if (nheight == 0):\n",
    "            nheight = 1\n",
    "        img = im.resize((20, nheight), Image.ANTIALIAS).filter(ImageFilter.SHARPEN)\n",
    "        wtop = int(round(((28 - nheight) / 2), 0))\n",
    "        newImage.paste(img, (4, wtop))\n",
    "    else:\n",
    "        nwidth = int(round((20.0 / height * width), 0))\n",
    "        if (nwidth == 0):\n",
    "            nwidth = 1\n",
    "        img = im.resize((nwidth, 20), Image.ANTIALIAS).filter(ImageFilter.SHARPEN)\n",
    "        wleft = int(round(((28 - nwidth) / 2), 0))\n",
    "        newImage.paste(img, (wleft, 4))\n",
    "\n",
    "    tv = list(newImage.getdata())\n",
    "\n",
    "    tva = [(255 - x) * 1.0 / 255.0 for x in tv]\n",
    "    return tva\n",
    "\n",
    "x=imageprepare('img9.png') #file path here (png)\n",
    "x = np.array(x).reshape(-1,1)\n",
    "mnist.forward_prop(x)\n",
    "Y_predict = mnist.params[\"A\"+str(len(mnist.dims)-1)]\n",
    "Y_pred = np.argmax(Y_predict, axis = 0).flatten()\n",
    "image = x.reshape(28, 28)\n",
    "plt.imshow(image, cmap='gray')\n",
    "print(Y_pred)\n",
    "plt.title('model predicted = {0}'.format(Y_pred[0]))\n",
    "plt.axis('off')"
   ]
  },
  {
   "cell_type": "code",
   "execution_count": null,
   "metadata": {},
   "outputs": [],
   "source": []
  }
 ],
 "metadata": {
  "colab": {
   "collapsed_sections": [],
   "name": "mnistnn.ipynb",
   "provenance": [],
   "toc_visible": true
  },
  "kernelspec": {
   "display_name": "Python 3",
   "language": "python",
   "name": "python3"
  },
  "language_info": {
   "codemirror_mode": {
    "name": "ipython",
    "version": 3
   },
   "file_extension": ".py",
   "mimetype": "text/x-python",
   "name": "python",
   "nbconvert_exporter": "python",
   "pygments_lexer": "ipython3",
   "version": "3.7.4"
  }
 },
 "nbformat": 4,
 "nbformat_minor": 1
}
